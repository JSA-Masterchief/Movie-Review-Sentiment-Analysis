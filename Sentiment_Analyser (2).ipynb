{
  "nbformat": 4,
  "nbformat_minor": 0,
  "metadata": {
    "colab": {
      "provenance": []
    },
    "kernelspec": {
      "name": "python3",
      "display_name": "Python 3"
    },
    "language_info": {
      "name": "python"
    }
  },
  "cells": [
    {
      "cell_type": "code",
      "execution_count": null,
      "metadata": {
        "id": "6U2WUJfVopVl"
      },
      "outputs": [],
      "source": [
        "def predict_sentiment(review, model, vectorizer):\n",
        "    # Clean the review text (optional, based on your preprocessing)\n",
        "    review = clean_text(review)\n",
        "\n",
        "    # Vectorize the input review\n",
        "    review_vec = vectorizer.transform([review])\n",
        "\n",
        "    # Predict the sentiment\n",
        "    prediction = model.predict(review_vec)\n",
        "\n",
        "    # Output the result\n",
        "    sentiment = 'positive' if prediction[0] == 1 else 'negative'\n",
        "    return sentiment\n",
        "\n",
        "# Example of testing manual inputs\n",
        "while True:\n",
        "    review = input(\"Enter a movie review (or 'exit' to quit): \")\n",
        "    if review.lower() == 'exit':\n",
        "        break\n",
        "    sentiment = predict_sentiment(review, model, vectorizer)\n",
        "    print(f\"The predicted sentiment is: {sentiment}\")"
      ]
    }
  ]
}